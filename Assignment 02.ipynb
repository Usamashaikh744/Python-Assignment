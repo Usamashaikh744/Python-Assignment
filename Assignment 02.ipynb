{
 "cells": [
  {
   "cell_type": "markdown",
   "metadata": {},
   "source": [
    "# 1. Write a program which takes 5 inputs from user for different subject’s marks, total it and generate mark sheet using grades ?"
   ]
  },
  {
   "cell_type": "code",
   "execution_count": 2,
   "metadata": {},
   "outputs": [
    {
     "name": "stdout",
     "output_type": "stream",
     "text": [
      "Enter English Marks: 56\n",
      "Enter Urdu marks: 67\n",
      "Enter Maths Marks: 78\n",
      "Enter Physics Marks: 89\n",
      "Enter Islamiat Marks: 75\n",
      "Total Sum:  365.0\n",
      "73.0 %\n",
      "Grade: A\n"
     ]
    }
   ],
   "source": [
    "num1 = float(input('Enter English Marks: '))\n",
    "num2 = float(input('Enter Urdu marks: '))\n",
    "num3 = float(input('Enter Maths Marks: '))\n",
    "num4 = float(input('Enter Physics Marks: '))\n",
    "num5 = float(input('Enter Islamiat Marks: '))\n",
    "\n",
    "#conditions for numbering\n",
    "if num1 > 100 or num1 < 0:\n",
    "    print('invalid English marks')\n",
    "if num2 > 100 or num2 < 0:\n",
    "    print('invalid urdu marks')\n",
    "if num3 > 100 or num3 < 0:\n",
    "    print('invalid Maths marks')\n",
    "if num4 > 100 or num4 < 0:\n",
    "    print('invalid Maths marks')\n",
    "if num5 > 100 or num5 < 0:\n",
    "    print('invalid Maths marks')\n",
    "#adding    \n",
    "sum = float(num1+num2+num3+num4+num5)\n",
    "print(\"Total Sum: \",sum)\n",
    "\n",
    "#percentage\n",
    "per = float((sum/500)*100)\n",
    "print(per,\"%\")\n",
    "\n",
    "#grading\n",
    "if per > 100:\n",
    "    print('invalid percentage')\n",
    "elif per >= 80 and per <= 100:\n",
    "    print('Grade: A+')\n",
    "elif per >= 70 and per < 80:\n",
    "    print('Grade: A')\n",
    "elif per >= 60 and per < 70:\n",
    "    print('Grade: B')\n",
    "elif per >= 50 and per < 60:\n",
    "    print('Grade: C')\n",
    "elif per <= 49.99:\n",
    "    print('Grade: F')\n",
    "   "
   ]
  },
  {
   "cell_type": "markdown",
   "metadata": {},
   "source": [
    "# 2. Write a program which take input from user and identify that the given number is even or odd?"
   ]
  },
  {
   "cell_type": "code",
   "execution_count": 4,
   "metadata": {},
   "outputs": [
    {
     "name": "stdout",
     "output_type": "stream",
     "text": [
      "Enter a number: 79\n",
      "This is an odd number.\n"
     ]
    }
   ],
   "source": [
    "num = int(input(\"Enter a number: \"))\n",
    "odd_ = num % 2\n",
    "if odd_ > 0:\n",
    "    print(\"This is an odd number.\")\n",
    "else:\n",
    "    print(\" This is not an odd number.\")"
   ]
  },
  {
   "cell_type": "markdown",
   "metadata": {},
   "source": [
    "# 3. Write a program which print the length of the list?"
   ]
  },
  {
   "cell_type": "code",
   "execution_count": 6,
   "metadata": {},
   "outputs": [
    {
     "name": "stdout",
     "output_type": "stream",
     "text": [
      "The length of the list is:  3\n"
     ]
    }
   ],
   "source": [
    "list_ = [\"star\",\"moon\",\"planet\"]\n",
    "print(\"The length of the list is: \",len(list_))"
   ]
  },
  {
   "cell_type": "markdown",
   "metadata": {},
   "source": [
    "# 4. Write a Python program to sum all the numeric items in a list?"
   ]
  },
  {
   "cell_type": "code",
   "execution_count": 20,
   "metadata": {},
   "outputs": [
    {
     "name": "stdout",
     "output_type": "stream",
     "text": [
      "Sum of all elements in given list:  74\n"
     ]
    }
   ],
   "source": [
    "# Python program to find sum of elements in list \n",
    "\n",
    "total = 0\n",
    "\n",
    "  \n",
    "# creating a list \n",
    "\n",
    "list1 = [11, 5, 17, 18, 23]  \n",
    "\n",
    "  \n",
    "# Iterate each element in list \n",
    "# and add them in variale total \n",
    "\n",
    "for ele in range(0, len(list1)): \n",
    "\n",
    "    total = total + list1[ele] \n",
    "\n",
    "  \n",
    "# printing total value \n",
    "\n",
    "print(\"Sum of all elements in given list: \", total) \n"
   ]
  },
  {
   "cell_type": "markdown",
   "metadata": {},
   "source": [
    "# 5. Write a Python program to get the largest number from a numeric list."
   ]
  },
  {
   "cell_type": "code",
   "execution_count": 21,
   "metadata": {},
   "outputs": [
    {
     "name": "stdout",
     "output_type": "stream",
     "text": [
      "Maximum number is:  10\n"
     ]
    }
   ],
   "source": [
    "names= [1,9,7,10]\n",
    "maxim = max(names)\n",
    "print(\"Maximum number is: \",maxim)"
   ]
  },
  {
   "cell_type": "markdown",
   "metadata": {},
   "source": [
    "# 6.Write a program that prints out all the elements of the list that are less than 5."
   ]
  },
  {
   "cell_type": "code",
   "execution_count": 22,
   "metadata": {},
   "outputs": [
    {
     "name": "stdout",
     "output_type": "stream",
     "text": [
      "[1, 1, 2, 3]\n"
     ]
    }
   ],
   "source": [
    "numbers = [1, 1, 2, 3, 5, 8, 13, 21, 34, 55, 89]\n",
    "new_list = []\n",
    "for i in numbers:\n",
    "    if i < 5:\n",
    "        new_list.append(i)\n",
    "print(new_list)"
   ]
  },
  {
   "cell_type": "code",
   "execution_count": null,
   "metadata": {},
   "outputs": [],
   "source": []
  }
 ],
 "metadata": {
  "kernelspec": {
   "display_name": "Python 3",
   "language": "python",
   "name": "python3"
  },
  "language_info": {
   "codemirror_mode": {
    "name": "ipython",
    "version": 3
   },
   "file_extension": ".py",
   "mimetype": "text/x-python",
   "name": "python",
   "nbconvert_exporter": "python",
   "pygments_lexer": "ipython3",
   "version": "3.7.2"
  }
 },
 "nbformat": 4,
 "nbformat_minor": 2
}
